{
 "cells": [
  {
   "cell_type": "markdown",
   "id": "37e4cd0e-2517-446d-bba1-031c42a0a7fc",
   "metadata": {},
   "source": [
    "### Importing the required libraries"
   ]
  },
  {
   "cell_type": "code",
   "execution_count": 82,
   "id": "7bf614e6-3b90-42ea-8b2f-576acf43d528",
   "metadata": {},
   "outputs": [],
   "source": [
    "import pandas as pd\n",
    "import matplotlib.pyplot as plt\n",
    "import numpy as np"
   ]
  },
  {
   "cell_type": "markdown",
   "id": "90e9a3d0-9c82-4330-b77e-73b2247caa7a",
   "metadata": {},
   "source": [
    "### Loading the data"
   ]
  },
  {
   "cell_type": "code",
   "execution_count": 83,
   "id": "86523ae0-edc9-40a9-b100-20ab76c87601",
   "metadata": {},
   "outputs": [
    {
     "data": {
      "text/html": [
       "<div>\n",
       "<style scoped>\n",
       "    .dataframe tbody tr th:only-of-type {\n",
       "        vertical-align: middle;\n",
       "    }\n",
       "\n",
       "    .dataframe tbody tr th {\n",
       "        vertical-align: top;\n",
       "    }\n",
       "\n",
       "    .dataframe thead th {\n",
       "        text-align: right;\n",
       "    }\n",
       "</style>\n",
       "<table border=\"1\" class=\"dataframe\">\n",
       "  <thead>\n",
       "    <tr style=\"text-align: right;\">\n",
       "      <th></th>\n",
       "      <th>Rank</th>\n",
       "      <th>Country</th>\n",
       "      <th>Nominal GDP (million US$)[1]</th>\n",
       "      <th>Population[1]</th>\n",
       "      <th>Per capita (US$)[1]</th>\n",
       "    </tr>\n",
       "  </thead>\n",
       "  <tbody>\n",
       "    <tr>\n",
       "      <th>0</th>\n",
       "      <td>1</td>\n",
       "      <td>South Africa</td>\n",
       "      <td>410338</td>\n",
       "      <td>64146000</td>\n",
       "      <td>6397</td>\n",
       "    </tr>\n",
       "    <tr>\n",
       "      <th>1</th>\n",
       "      <td>2</td>\n",
       "      <td>Egypt</td>\n",
       "      <td>347342</td>\n",
       "      <td>109450000</td>\n",
       "      <td>3174</td>\n",
       "    </tr>\n",
       "    <tr>\n",
       "      <th>2</th>\n",
       "      <td>3</td>\n",
       "      <td>Algeria</td>\n",
       "      <td>268885</td>\n",
       "      <td>47251000</td>\n",
       "      <td>5690</td>\n",
       "    </tr>\n",
       "    <tr>\n",
       "      <th>3</th>\n",
       "      <td>4</td>\n",
       "      <td>Nigeria</td>\n",
       "      <td>188271</td>\n",
       "      <td>233343000</td>\n",
       "      <td>807</td>\n",
       "    </tr>\n",
       "    <tr>\n",
       "      <th>4</th>\n",
       "      <td>5</td>\n",
       "      <td>Morocco</td>\n",
       "      <td>165835</td>\n",
       "      <td>37712000</td>\n",
       "      <td>4397</td>\n",
       "    </tr>\n",
       "  </tbody>\n",
       "</table>\n",
       "</div>"
      ],
      "text/plain": [
       "  Rank       Country Nominal GDP (million US$)[1] Population[1]  \\\n",
       "0    1  South Africa                       410338      64146000   \n",
       "1    2         Egypt                       347342     109450000   \n",
       "2    3       Algeria                       268885      47251000   \n",
       "3    4       Nigeria                       188271     233343000   \n",
       "4    5       Morocco                       165835      37712000   \n",
       "\n",
       "  Per capita (US$)[1]  \n",
       "0                6397  \n",
       "1                3174  \n",
       "2                5690  \n",
       "3                 807  \n",
       "4                4397  "
      ]
     },
     "execution_count": 83,
     "metadata": {},
     "output_type": "execute_result"
    }
   ],
   "source": [
    "url = \"https://en.wikipedia.org/wiki/List_of_African_countries_by_GDP_(nominal)\"\n",
    "tables = pd.read_html(url)\n",
    "\n",
    "# Preview the first table (or whichever you want)\n",
    "df = tables[0]\n",
    "\n",
    "df.head()"
   ]
  },
  {
   "cell_type": "code",
   "execution_count": 114,
   "id": "d956eb9b-4fde-4e21-8916-cfc3cd7428fd",
   "metadata": {},
   "outputs": [
    {
     "name": "stdout",
     "output_type": "stream",
     "text": [
      "<class 'pandas.core.frame.DataFrame'>\n",
      "RangeIndex: 55 entries, 0 to 54\n",
      "Data columns (total 5 columns):\n",
      " #   Column                    Non-Null Count  Dtype \n",
      "---  ------                    --------------  ----- \n",
      " 0   Rank                      55 non-null     object\n",
      " 1   Country                   55 non-null     object\n",
      " 2   Nominal GDP(million US$)  55 non-null     int64 \n",
      " 3   Population                55 non-null     int64 \n",
      " 4   Per capita(US$)           55 non-null     int64 \n",
      "dtypes: int64(3), object(2)\n",
      "memory usage: 2.3+ KB\n"
     ]
    }
   ],
   "source": [
    "df.info()"
   ]
  },
  {
   "cell_type": "code",
   "execution_count": 85,
   "id": "f255337b-84cb-4d40-baad-24c902c6bc7c",
   "metadata": {},
   "outputs": [],
   "source": [
    "df.columns = ['Rank', 'Country', 'Nominal GDP(million US$)', 'Population', 'Per capita(US$)']"
   ]
  },
  {
   "cell_type": "code",
   "execution_count": 86,
   "id": "1133bbed-76d6-49e1-b116-c69ed4f94a21",
   "metadata": {},
   "outputs": [
    {
     "data": {
      "text/plain": [
       "Rank                        object\n",
       "Country                     object\n",
       "Nominal GDP(million US$)    object\n",
       "Population                  object\n",
       "Per capita(US$)             object\n",
       "dtype: object"
      ]
     },
     "execution_count": 86,
     "metadata": {},
     "output_type": "execute_result"
    }
   ],
   "source": [
    "df.dtypes"
   ]
  },
  {
   "cell_type": "code",
   "execution_count": 87,
   "id": "2ad5f6d5-e9cf-428b-bb51-4d4d1939a976",
   "metadata": {},
   "outputs": [
    {
     "data": {
      "text/plain": [
       "array(['410338', '347342', '268885', '188271', '165835', '131673',\n",
       "       '117457', '113343', '94483', '88332', '85977', '79119', '64277',\n",
       "       '56291', '56011', '47484', '38172', '34728', '31506', '30094',\n",
       "       '28910', '27056', '23771', '23208', '22236', '21874', '20391',\n",
       "       '19400', '18792', '18708', '15495', '15281', '14771', '14214',\n",
       "       '13959', '12994', '12684', '11470', '10023', '8386', '6745',\n",
       "       '5483', '5166', '4587', '3998', '2932', '2786', '2771', '2404',\n",
       "       '2274', '2198', '1,982 (2019)', '1548', '864', '$ 2,848,979'],\n",
       "      dtype=object)"
      ]
     },
     "execution_count": 87,
     "metadata": {},
     "output_type": "execute_result"
    }
   ],
   "source": [
    "df['Nominal GDP(million US$)'].unique()"
   ]
  },
  {
   "cell_type": "code",
   "execution_count": 88,
   "id": "f4863b8a-6605-4f65-8b7f-2e93b45d7bde",
   "metadata": {},
   "outputs": [],
   "source": [
    "df['Nominal GDP(million US$)'] = (\n",
    "    df['Nominal GDP(million US$)']\n",
    "    .astype(str)                             # Ensure all values are strings\n",
    "    .str.replace(r'\\(.*?\\)', '', regex=True) # Removes all the characters enclosed by parenthesis\n",
    "    .str.replace(r'[^\\d]', '', regex=True)   # Remove all non-digit characters\n",
    "    .replace('', '0')                        # Handle any empty strings after cleaning\n",
    "    .astype(int)                             # Convert to intege\n",
    ")   "
   ]
  },
  {
   "cell_type": "code",
   "execution_count": 89,
   "id": "1d546634-fe91-42bc-96fa-bfb3d3958768",
   "metadata": {},
   "outputs": [
    {
     "data": {
      "text/plain": [
       "array([ 410338,  347342,  268885,  188271,  165835,  131673,  117457,\n",
       "        113343,   94483,   88332,   85977,   79119,   64277,   56291,\n",
       "         56011,   47484,   38172,   34728,   31506,   30094,   28910,\n",
       "         27056,   23771,   23208,   22236,   21874,   20391,   19400,\n",
       "         18792,   18708,   15495,   15281,   14771,   14214,   13959,\n",
       "         12994,   12684,   11470,   10023,    8386,    6745,    5483,\n",
       "          5166,    4587,    3998,    2932,    2786,    2771,    2404,\n",
       "          2274,    2198,    1982,    1548,     864, 2848979])"
      ]
     },
     "execution_count": 89,
     "metadata": {},
     "output_type": "execute_result"
    }
   ],
   "source": [
    "df['Nominal GDP(million US$)'].unique()"
   ]
  },
  {
   "cell_type": "code",
   "execution_count": 92,
   "id": "ea210fa4-a3e2-4dd9-8785-f8f6d41278c1",
   "metadata": {},
   "outputs": [
    {
     "data": {
      "text/plain": [
       "array(['64146000', '109450000', '47251000', '233343000', '37712000',\n",
       "       '53354000', '110148000', '39297000', '32897000', '35064000',\n",
       "       '67175000', '106552000', '48022000', '12432000', '30032000',\n",
       "       '6982000', '17360000', '19173000', '50418000', '15803000',\n",
       "       '21707000', '24451000', '35835000', '24790000', '14516000',\n",
       "       '29126000', '2306000', '2763000', '18961000', '31444000',\n",
       "       '1256000', '6486000', '14162000', '3049000', '24057000',\n",
       "       '16963000', '1637000', '4629000', '9515000', '9157000', '13766000',\n",
       "       '1189000', '5692000', '1056000', '15896000', '5513000', '514000',\n",
       "       '2805000', '2190000', '2019000', '102000', '3,497,000 (2019)',\n",
       "       '910000', '242000', '1488812000'], dtype=object)"
      ]
     },
     "execution_count": 92,
     "metadata": {},
     "output_type": "execute_result"
    }
   ],
   "source": [
    "df['Population'].unique()"
   ]
  },
  {
   "cell_type": "code",
   "execution_count": 98,
   "id": "1ce29019-4454-4e91-b686-2345713a4381",
   "metadata": {},
   "outputs": [],
   "source": [
    "df['Population'] = (df['Population']\n",
    "    .astype(str)\n",
    "    .str.replace(r'\\(.*?\\)', '', regex= True)\n",
    "    .str.replace(r'[^\\d]', '', regex= True)\n",
    "    .replace('', '0')\n",
    "    .astype(int)\n",
    ")"
   ]
  },
  {
   "cell_type": "code",
   "execution_count": 99,
   "id": "b5ef4547-d3f9-43c1-8213-23916dd09a83",
   "metadata": {},
   "outputs": [
    {
     "data": {
      "text/plain": [
       "array([  64146000,  109450000,   47251000,  233343000,   37712000,\n",
       "         53354000,  110148000,   39297000,   32897000,   35064000,\n",
       "         67175000,  106552000,   48022000,   12432000,   30032000,\n",
       "          6982000,   17360000,   19173000,   50418000,   15803000,\n",
       "         21707000,   24451000,   35835000,   24790000,   14516000,\n",
       "         29126000,    2306000,    2763000,   18961000,   31444000,\n",
       "          1256000,    6486000,   14162000,    3049000,   24057000,\n",
       "         16963000,    1637000,    4629000,    9515000,    9157000,\n",
       "         13766000,    1189000,    5692000,    1056000,   15896000,\n",
       "          5513000,     514000,    2805000,    2190000,    2019000,\n",
       "           102000,    3497000,     910000,     242000, 1488812000])"
      ]
     },
     "execution_count": 99,
     "metadata": {},
     "output_type": "execute_result"
    }
   ],
   "source": [
    "df['Population'].unique()"
   ]
  },
  {
   "cell_type": "code",
   "execution_count": 101,
   "id": "2d8d2cfb-0e28-42ba-978f-507c57e293ca",
   "metadata": {},
   "outputs": [
    {
     "data": {
      "text/plain": [
       "array(['6397', '3174', '5690', '807', '4397', '2468', '1066', '2884',\n",
       "       '2872', '2519', '1280', '743', '1338', '4528', '1865', '6801',\n",
       "       '2199', '1811', '625', '1904', '1332', '1107', '663', '936',\n",
       "       '1532', '751', '8842', '7021', '991', '595', '12332', '2356',\n",
       "       '1043', '4661', '580', '766', '7750', '2478', '1053', '916', '490',\n",
       "       '4613', '907', '4343', '251', '532', '5421', '988', '1098', '1126',\n",
       "       '21633', '567 (2019)', '1702', '3569', '$ 1,914'], dtype=object)"
      ]
     },
     "execution_count": 101,
     "metadata": {},
     "output_type": "execute_result"
    }
   ],
   "source": [
    "df['Per capita(US$)'].unique()"
   ]
  },
  {
   "cell_type": "code",
   "execution_count": 103,
   "id": "cee95e57-4cb8-4193-81d2-21469e45c6bc",
   "metadata": {},
   "outputs": [],
   "source": [
    "df['Per capita(US$)'] = (df['Per capita(US$)']\n",
    "    .astype(str)\n",
    "    .str.replace(r'\\(.*?\\)', '', regex= True)\n",
    "    .str.replace(r'[^\\d]', '', regex= True)\n",
    "    .replace('', '0')\n",
    "    .astype(int)\n",
    ")"
   ]
  },
  {
   "cell_type": "code",
   "execution_count": 104,
   "id": "bbd9c5a2-00c6-4709-928b-43a50ed172f9",
   "metadata": {},
   "outputs": [
    {
     "data": {
      "text/plain": [
       "array([  64146000,  109450000,   47251000,  233343000,   37712000,\n",
       "         53354000,  110148000,   39297000,   32897000,   35064000,\n",
       "         67175000,  106552000,   48022000,   12432000,   30032000,\n",
       "          6982000,   17360000,   19173000,   50418000,   15803000,\n",
       "         21707000,   24451000,   35835000,   24790000,   14516000,\n",
       "         29126000,    2306000,    2763000,   18961000,   31444000,\n",
       "          1256000,    6486000,   14162000,    3049000,   24057000,\n",
       "         16963000,    1637000,    4629000,    9515000,    9157000,\n",
       "         13766000,    1189000,    5692000,    1056000,   15896000,\n",
       "          5513000,     514000,    2805000,    2190000,    2019000,\n",
       "           102000,    3497000,     910000,     242000, 1488812000])"
      ]
     },
     "execution_count": 104,
     "metadata": {},
     "output_type": "execute_result"
    }
   ],
   "source": [
    "df['Per capita(US$)'].unique()"
   ]
  },
  {
   "cell_type": "code",
   "execution_count": 105,
   "id": "8947b03b-f4b7-4c1e-b65f-2ac9380cc9d9",
   "metadata": {},
   "outputs": [
    {
     "data": {
      "text/plain": [
       "Rank                        object\n",
       "Country                     object\n",
       "Nominal GDP(million US$)     int64\n",
       "Population                   int64\n",
       "Per capita(US$)              int64\n",
       "dtype: object"
      ]
     },
     "execution_count": 105,
     "metadata": {},
     "output_type": "execute_result"
    }
   ],
   "source": [
    "df.dtypes"
   ]
  },
  {
   "cell_type": "code",
   "execution_count": 107,
   "id": "aa58b756-cd31-4401-b837-f6894d34acc4",
   "metadata": {},
   "outputs": [
    {
     "data": {
      "text/html": [
       "<div>\n",
       "<style scoped>\n",
       "    .dataframe tbody tr th:only-of-type {\n",
       "        vertical-align: middle;\n",
       "    }\n",
       "\n",
       "    .dataframe tbody tr th {\n",
       "        vertical-align: top;\n",
       "    }\n",
       "\n",
       "    .dataframe thead th {\n",
       "        text-align: right;\n",
       "    }\n",
       "</style>\n",
       "<table border=\"1\" class=\"dataframe\">\n",
       "  <thead>\n",
       "    <tr style=\"text-align: right;\">\n",
       "      <th></th>\n",
       "      <th>Nominal GDP(million US$)</th>\n",
       "      <th>Population</th>\n",
       "      <th>Per capita(US$)</th>\n",
       "    </tr>\n",
       "  </thead>\n",
       "  <tbody>\n",
       "    <tr>\n",
       "      <th>count</th>\n",
       "      <td>5.500000e+01</td>\n",
       "      <td>5.500000e+01</td>\n",
       "      <td>5.500000e+01</td>\n",
       "    </tr>\n",
       "    <tr>\n",
       "      <th>mean</th>\n",
       "      <td>1.035992e+05</td>\n",
       "      <td>5.413862e+07</td>\n",
       "      <td>5.413862e+07</td>\n",
       "    </tr>\n",
       "    <tr>\n",
       "      <th>std</th>\n",
       "      <td>3.860846e+05</td>\n",
       "      <td>2.008487e+08</td>\n",
       "      <td>2.008487e+08</td>\n",
       "    </tr>\n",
       "    <tr>\n",
       "      <th>min</th>\n",
       "      <td>8.640000e+02</td>\n",
       "      <td>1.020000e+05</td>\n",
       "      <td>1.020000e+05</td>\n",
       "    </tr>\n",
       "    <tr>\n",
       "      <th>25%</th>\n",
       "      <td>7.565500e+03</td>\n",
       "      <td>3.273000e+06</td>\n",
       "      <td>3.273000e+06</td>\n",
       "    </tr>\n",
       "    <tr>\n",
       "      <th>50%</th>\n",
       "      <td>2.039100e+04</td>\n",
       "      <td>1.589600e+07</td>\n",
       "      <td>1.589600e+07</td>\n",
       "    </tr>\n",
       "    <tr>\n",
       "      <th>75%</th>\n",
       "      <td>6.028400e+04</td>\n",
       "      <td>3.544950e+07</td>\n",
       "      <td>3.544950e+07</td>\n",
       "    </tr>\n",
       "    <tr>\n",
       "      <th>max</th>\n",
       "      <td>2.848979e+06</td>\n",
       "      <td>1.488812e+09</td>\n",
       "      <td>1.488812e+09</td>\n",
       "    </tr>\n",
       "  </tbody>\n",
       "</table>\n",
       "</div>"
      ],
      "text/plain": [
       "       Nominal GDP(million US$)    Population  Per capita(US$)\n",
       "count              5.500000e+01  5.500000e+01     5.500000e+01\n",
       "mean               1.035992e+05  5.413862e+07     5.413862e+07\n",
       "std                3.860846e+05  2.008487e+08     2.008487e+08\n",
       "min                8.640000e+02  1.020000e+05     1.020000e+05\n",
       "25%                7.565500e+03  3.273000e+06     3.273000e+06\n",
       "50%                2.039100e+04  1.589600e+07     1.589600e+07\n",
       "75%                6.028400e+04  3.544950e+07     3.544950e+07\n",
       "max                2.848979e+06  1.488812e+09     1.488812e+09"
      ]
     },
     "execution_count": 107,
     "metadata": {},
     "output_type": "execute_result"
    }
   ],
   "source": [
    "df.describe()"
   ]
  },
  {
   "cell_type": "code",
   "execution_count": null,
   "id": "786e0eb7-caab-4803-8ae5-285a8bf33891",
   "metadata": {},
   "outputs": [],
   "source": []
  },
  {
   "cell_type": "code",
   "execution_count": 120,
   "id": "8bec9713-e70e-442f-967b-f44bae236ae4",
   "metadata": {},
   "outputs": [
    {
     "data": {
      "text/html": [
       "<div>\n",
       "<style scoped>\n",
       "    .dataframe tbody tr th:only-of-type {\n",
       "        vertical-align: middle;\n",
       "    }\n",
       "\n",
       "    .dataframe tbody tr th {\n",
       "        vertical-align: top;\n",
       "    }\n",
       "\n",
       "    .dataframe thead th {\n",
       "        text-align: right;\n",
       "    }\n",
       "</style>\n",
       "<table border=\"1\" class=\"dataframe\">\n",
       "  <thead>\n",
       "    <tr style=\"text-align: right;\">\n",
       "      <th></th>\n",
       "      <th>Rank</th>\n",
       "      <th>Country</th>\n",
       "      <th>Nominal GDP(million US$)</th>\n",
       "      <th>Population</th>\n",
       "      <th>Per capita(US$)</th>\n",
       "    </tr>\n",
       "  </thead>\n",
       "  <tbody>\n",
       "    <tr>\n",
       "      <th>0</th>\n",
       "      <td>1</td>\n",
       "      <td>South Africa</td>\n",
       "      <td>410338</td>\n",
       "      <td>64146000</td>\n",
       "      <td>64146000</td>\n",
       "    </tr>\n",
       "    <tr>\n",
       "      <th>1</th>\n",
       "      <td>2</td>\n",
       "      <td>Egypt</td>\n",
       "      <td>347342</td>\n",
       "      <td>109450000</td>\n",
       "      <td>109450000</td>\n",
       "    </tr>\n",
       "    <tr>\n",
       "      <th>2</th>\n",
       "      <td>3</td>\n",
       "      <td>Algeria</td>\n",
       "      <td>268885</td>\n",
       "      <td>47251000</td>\n",
       "      <td>47251000</td>\n",
       "    </tr>\n",
       "    <tr>\n",
       "      <th>3</th>\n",
       "      <td>4</td>\n",
       "      <td>Nigeria</td>\n",
       "      <td>188271</td>\n",
       "      <td>233343000</td>\n",
       "      <td>233343000</td>\n",
       "    </tr>\n",
       "    <tr>\n",
       "      <th>4</th>\n",
       "      <td>5</td>\n",
       "      <td>Morocco</td>\n",
       "      <td>165835</td>\n",
       "      <td>37712000</td>\n",
       "      <td>37712000</td>\n",
       "    </tr>\n",
       "  </tbody>\n",
       "</table>\n",
       "</div>"
      ],
      "text/plain": [
       "  Rank       Country  Nominal GDP(million US$)  Population  Per capita(US$)\n",
       "0    1  South Africa                    410338    64146000         64146000\n",
       "1    2         Egypt                    347342   109450000        109450000\n",
       "2    3       Algeria                    268885    47251000         47251000\n",
       "3    4       Nigeria                    188271   233343000        233343000\n",
       "4    5       Morocco                    165835    37712000         37712000"
      ]
     },
     "execution_count": 120,
     "metadata": {},
     "output_type": "execute_result"
    }
   ],
   "source": [
    "top_five = df.nlargest(n= 6, columns= 'Nominal GDP(million US$)').drop(54)\n",
    "top_five"
   ]
  },
  {
   "cell_type": "code",
   "execution_count": 156,
   "id": "d49946d8-bf96-4a6d-8a9f-a90cf6e341fc",
   "metadata": {},
   "outputs": [
    {
     "data": {
      "image/png": "[encoded data removed]",
      "text/plain": [
       "<Figure size 640x480 with 1 Axes>"
      ]
     },
     "metadata": {},
     "output_type": "display_data"
    }
   ],
   "source": [
    "plt.bar(top_five['Country'], top_five['Nominal GDP(million US$)'], color= 'orange')\n",
    "\n",
    "for i,v in enumerate(top_five['Nominal GDP(million US$)']):\n",
    "    plt.text(i, v+5000, str(v), ha='center', weight= 'bold', size=10)\n",
    "\n",
    "plt.show()"
   ]
  },
  {
   "cell_type": "code",
   "execution_count": null,
   "id": "4a377187-aca9-445b-9f34-b6a01c288407",
   "metadata": {},
   "outputs": [],
   "source": []
  }
 ],
 "metadata": {
  "kernelspec": {
   "display_name": "Python 3 (ipykernel)",
   "language": "python",
   "name": "python3"
  },
  "language_info": {
   "codemirror_mode": {
    "name": "ipython",
    "version": 3
   },
   "file_extension": ".py",
   "mimetype": "text/x-python",
   "name": "python",
   "nbconvert_exporter": "python",
   "pygments_lexer": "ipython3",
   "version": "3.13.4"
  }
 },
 "nbformat": 4,
 "nbformat_minor": 5
}
